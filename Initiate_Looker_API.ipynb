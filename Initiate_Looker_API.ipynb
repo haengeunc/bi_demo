{
  "nbformat": 4,
  "nbformat_minor": 0,
  "metadata": {
    "colab": {
      "provenance": [],
      "include_colab_link": true
    },
    "kernelspec": {
      "name": "python3",
      "display_name": "Python 3"
    },
    "language_info": {
      "name": "python"
    }
  },
  "cells": [
    {
      "cell_type": "markdown",
      "metadata": {
        "id": "view-in-github",
        "colab_type": "text"
      },
      "source": [
        "<a href=\"https://colab.research.google.com/github/haengeunc/bi_demo/blob/master/Initiate_Looker_API.ipynb\" target=\"_parent\"><img src=\"https://colab.research.google.com/assets/colab-badge.svg\" alt=\"Open In Colab\"/></a>"
      ]
    },
    {
      "cell_type": "markdown",
      "source": [
        "❓How to use API in Looker❓\n",
        "\n",
        "Development environment requirements:\n",
        "*  looker-sdk-22.18.0\n",
        "\n",
        "\n"
      ],
      "metadata": {
        "id": "WQ3oKljdCBhN"
      }
    },
    {
      "cell_type": "markdown",
      "source": [
        "# Set up the Looker Python SDK"
      ],
      "metadata": {
        "id": "bofq65lQaOke"
      }
    },
    {
      "cell_type": "code",
      "source": [
        "!pip install looker-sdk"
      ],
      "metadata": {
        "id": "IqMUz_40CF0c",
        "colab": {
          "base_uri": "https://localhost:8080/"
        },
        "outputId": "d40a33c9-9a01-4e8d-e974-f24a321e0560"
      },
      "execution_count": 1,
      "outputs": [
        {
          "output_type": "stream",
          "name": "stdout",
          "text": [
            "Looking in indexes: https://pypi.org/simple, https://us-python.pkg.dev/colab-wheels/public/simple/\n",
            "Collecting looker-sdk\n",
            "  Downloading looker_sdk-23.2.0-py3-none-any.whl (348 kB)\n",
            "\u001b[2K     \u001b[90m━━━━━━━━━━━━━━━━━━━━━━━━━━━━━━━━━━━━━━━\u001b[0m \u001b[32m348.5/348.5 KB\u001b[0m \u001b[31m5.5 MB/s\u001b[0m eta \u001b[36m0:00:00\u001b[0m\n",
            "\u001b[?25hRequirement already satisfied: typing-extensions>=4.1.1 in /usr/local/lib/python3.9/dist-packages (from looker-sdk) (4.5.0)\n",
            "Collecting cattrs>=1.3\n",
            "  Downloading cattrs-22.2.0-py3-none-any.whl (35 kB)\n",
            "Requirement already satisfied: attrs>=20.1.0 in /usr/local/lib/python3.9/dist-packages (from looker-sdk) (22.2.0)\n",
            "Requirement already satisfied: requests>=2.22 in /usr/local/lib/python3.9/dist-packages (from looker-sdk) (2.25.1)\n",
            "Collecting exceptiongroup\n",
            "  Downloading exceptiongroup-1.1.0-py3-none-any.whl (14 kB)\n",
            "Requirement already satisfied: chardet<5,>=3.0.2 in /usr/local/lib/python3.9/dist-packages (from requests>=2.22->looker-sdk) (4.0.0)\n",
            "Requirement already satisfied: certifi>=2017.4.17 in /usr/local/lib/python3.9/dist-packages (from requests>=2.22->looker-sdk) (2022.12.7)\n",
            "Requirement already satisfied: idna<3,>=2.5 in /usr/local/lib/python3.9/dist-packages (from requests>=2.22->looker-sdk) (2.10)\n",
            "Requirement already satisfied: urllib3<1.27,>=1.21.1 in /usr/local/lib/python3.9/dist-packages (from requests>=2.22->looker-sdk) (1.26.14)\n",
            "Installing collected packages: exceptiongroup, cattrs, looker-sdk\n",
            "Successfully installed cattrs-22.2.0 exceptiongroup-1.1.0 looker-sdk-23.2.0\n"
          ]
        }
      ]
    },
    {
      "cell_type": "code",
      "metadata": {
        "id": "SOp9JZxPm4pM",
        "colab": {
          "base_uri": "https://localhost:8080/"
        },
        "outputId": "4303bb29-a716-4d2a-9675-7cc2a08d0aa8"
      },
      "source": [
        "# For the SDK to work, you must either have set environment variables or created a looker.ini in the working directory.\n",
        "\n",
        "# 1. Setting environment variables: Create looker.ini file in the working directory (e.g. /content folder)\n",
        "\n",
        "# [Looker]\n",
        "# # Base URL for API. Do not include /api/* in the url\n",
        "# base_url=https://<your-looker-server>:19999\n",
        "# # API 3 client id\n",
        "# client_id=your_API3_client_id\n",
        "# # API 3 client secret\n",
        "# client_secret=your_API3_client_secret\n",
        "# verify_ssl=true\n",
        "\n",
        "#check looker.ini file exists in the content folder\n",
        "import os.path\n",
        "\n",
        "fname = '/content/looker.ini'\n",
        "os.path.isfile(fname)\n",
        "\n",
        "if os.path.isfile(fname):\n",
        "  print('Environment variables are set')\n",
        "else:\n",
        "  print('Ensure that looker.ini file is stored in the working directory - see instruction above')\n",
        "\n",
        "\n"
      ],
      "execution_count": 3,
      "outputs": [
        {
          "output_type": "stream",
          "name": "stdout",
          "text": [
            "Environment variables are set\n"
          ]
        }
      ]
    },
    {
      "cell_type": "code",
      "source": [
        "# [Optional - mount Google Drive on colab]\n",
        "\n",
        "from google.colab import drive\n",
        "drive.mount('/content/drive')"
      ],
      "metadata": {
        "id": "mge8iQYd6lhU",
        "colab": {
          "base_uri": "https://localhost:8080/"
        },
        "outputId": "06e23b11-75fd-4b05-ec78-bb65e4a4b093"
      },
      "execution_count": 4,
      "outputs": [
        {
          "output_type": "stream",
          "name": "stdout",
          "text": [
            "Mounted at /content/drive\n"
          ]
        }
      ]
    },
    {
      "cell_type": "code",
      "execution_count": 5,
      "metadata": {
        "id": "u_jEgRWjBcta",
        "colab": {
          "base_uri": "https://localhost:8080/",
          "height": 416
        },
        "outputId": "9ce657a7-754b-4a8f-f8a6-ca32b5b45910"
      },
      "outputs": [
        {
          "output_type": "error",
          "ename": "SDKError",
          "evalue": "ignored",
          "traceback": [
            "\u001b[0;31m---------------------------------------------------------------------------\u001b[0m",
            "\u001b[0;31mSDKError\u001b[0m                                  Traceback (most recent call last)",
            "\u001b[0;32m<ipython-input-5-df00257080e8>\u001b[0m in \u001b[0;36m<module>\u001b[0;34m\u001b[0m\n\u001b[1;32m      6\u001b[0m \u001b[0;34m\u001b[0m\u001b[0m\n\u001b[1;32m      7\u001b[0m \u001b[0;31m# Make your first Looker API calls\u001b[0m\u001b[0;34m\u001b[0m\u001b[0;34m\u001b[0m\u001b[0m\n\u001b[0;32m----> 8\u001b[0;31m \u001b[0mmy_user\u001b[0m \u001b[0;34m=\u001b[0m \u001b[0msdk\u001b[0m\u001b[0;34m.\u001b[0m\u001b[0mme\u001b[0m\u001b[0;34m(\u001b[0m\u001b[0;34m)\u001b[0m\u001b[0;34m\u001b[0m\u001b[0;34m\u001b[0m\u001b[0m\n\u001b[0m\u001b[1;32m      9\u001b[0m \u001b[0;34m\u001b[0m\u001b[0m\n\u001b[1;32m     10\u001b[0m \u001b[0mprint\u001b[0m\u001b[0;34m(\u001b[0m\u001b[0mmy_user\u001b[0m\u001b[0;34m.\u001b[0m\u001b[0mfirst_name\u001b[0m\u001b[0;34m)\u001b[0m\u001b[0;34m\u001b[0m\u001b[0;34m\u001b[0m\u001b[0m\n",
            "\u001b[0;32m/usr/local/lib/python3.9/dist-packages/looker_sdk/sdk/api40/methods.py\u001b[0m in \u001b[0;36mme\u001b[0;34m(self, fields, transport_options)\u001b[0m\n\u001b[1;32m  10966\u001b[0m         response = cast(\n\u001b[1;32m  10967\u001b[0m             \u001b[0mmdls\u001b[0m\u001b[0;34m.\u001b[0m\u001b[0mUser\u001b[0m\u001b[0;34m,\u001b[0m\u001b[0;34m\u001b[0m\u001b[0;34m\u001b[0m\u001b[0m\n\u001b[0;32m> 10968\u001b[0;31m             self.get(\n\u001b[0m\u001b[1;32m  10969\u001b[0m                 \u001b[0mpath\u001b[0m\u001b[0;34m=\u001b[0m\u001b[0;34m\"/user\"\u001b[0m\u001b[0;34m,\u001b[0m\u001b[0;34m\u001b[0m\u001b[0;34m\u001b[0m\u001b[0m\n\u001b[1;32m  10970\u001b[0m                 \u001b[0mstructure\u001b[0m\u001b[0;34m=\u001b[0m\u001b[0mmdls\u001b[0m\u001b[0;34m.\u001b[0m\u001b[0mUser\u001b[0m\u001b[0;34m,\u001b[0m\u001b[0;34m\u001b[0m\u001b[0;34m\u001b[0m\u001b[0m\n",
            "\u001b[0;32m/usr/local/lib/python3.9/dist-packages/looker_sdk/rtl/api_methods.py\u001b[0m in \u001b[0;36mget\u001b[0;34m(self, path, structure, query_params, transport_options)\u001b[0m\n\u001b[1;32m    139\u001b[0m         \u001b[0;34m\"\"\"GET method\"\"\"\u001b[0m\u001b[0;34m\u001b[0m\u001b[0;34m\u001b[0m\u001b[0m\n\u001b[1;32m    140\u001b[0m         \u001b[0mparams\u001b[0m \u001b[0;34m=\u001b[0m \u001b[0mself\u001b[0m\u001b[0;34m.\u001b[0m\u001b[0m_convert_query_params\u001b[0m\u001b[0;34m(\u001b[0m\u001b[0mquery_params\u001b[0m\u001b[0;34m)\u001b[0m \u001b[0;32mif\u001b[0m \u001b[0mquery_params\u001b[0m \u001b[0;32melse\u001b[0m \u001b[0;32mNone\u001b[0m\u001b[0;34m\u001b[0m\u001b[0;34m\u001b[0m\u001b[0m\n\u001b[0;32m--> 141\u001b[0;31m         response = self.transport.request(\n\u001b[0m\u001b[1;32m    142\u001b[0m             \u001b[0mtransport\u001b[0m\u001b[0;34m.\u001b[0m\u001b[0mHttpMethod\u001b[0m\u001b[0;34m.\u001b[0m\u001b[0mGET\u001b[0m\u001b[0;34m,\u001b[0m\u001b[0;34m\u001b[0m\u001b[0;34m\u001b[0m\u001b[0m\n\u001b[1;32m    143\u001b[0m             \u001b[0mself\u001b[0m\u001b[0;34m.\u001b[0m\u001b[0m_path\u001b[0m\u001b[0;34m(\u001b[0m\u001b[0mpath\u001b[0m\u001b[0;34m)\u001b[0m\u001b[0;34m,\u001b[0m\u001b[0;34m\u001b[0m\u001b[0;34m\u001b[0m\u001b[0m\n",
            "\u001b[0;32m/usr/local/lib/python3.9/dist-packages/looker_sdk/rtl/requests_transport.py\u001b[0m in \u001b[0;36mrequest\u001b[0;34m(self, method, path, query_params, body, authenticator, transport_options)\u001b[0m\n\u001b[1;32m     64\u001b[0m         \u001b[0mtimeout\u001b[0m \u001b[0;34m=\u001b[0m \u001b[0mself\u001b[0m\u001b[0;34m.\u001b[0m\u001b[0msettings\u001b[0m\u001b[0;34m.\u001b[0m\u001b[0mtimeout\u001b[0m\u001b[0;34m\u001b[0m\u001b[0;34m\u001b[0m\u001b[0m\n\u001b[1;32m     65\u001b[0m         \u001b[0;32mif\u001b[0m \u001b[0mauthenticator\u001b[0m\u001b[0;34m:\u001b[0m\u001b[0;34m\u001b[0m\u001b[0;34m\u001b[0m\u001b[0m\n\u001b[0;32m---> 66\u001b[0;31m             \u001b[0mheaders\u001b[0m\u001b[0;34m.\u001b[0m\u001b[0mupdate\u001b[0m\u001b[0;34m(\u001b[0m\u001b[0mauthenticator\u001b[0m\u001b[0;34m(\u001b[0m\u001b[0mtransport_options\u001b[0m \u001b[0;32mor\u001b[0m \u001b[0;34m{\u001b[0m\u001b[0;34m}\u001b[0m\u001b[0;34m)\u001b[0m\u001b[0;34m)\u001b[0m\u001b[0;34m\u001b[0m\u001b[0;34m\u001b[0m\u001b[0m\n\u001b[0m\u001b[1;32m     67\u001b[0m         \u001b[0;32mif\u001b[0m \u001b[0mtransport_options\u001b[0m\u001b[0;34m:\u001b[0m\u001b[0;34m\u001b[0m\u001b[0;34m\u001b[0m\u001b[0m\n\u001b[1;32m     68\u001b[0m             \u001b[0;32mif\u001b[0m \u001b[0mtransport_options\u001b[0m\u001b[0;34m.\u001b[0m\u001b[0mget\u001b[0m\u001b[0;34m(\u001b[0m\u001b[0;34m\"headers\"\u001b[0m\u001b[0;34m)\u001b[0m\u001b[0;34m:\u001b[0m\u001b[0;34m\u001b[0m\u001b[0;34m\u001b[0m\u001b[0m\n",
            "\u001b[0;32m/usr/local/lib/python3.9/dist-packages/looker_sdk/rtl/auth_session.py\u001b[0m in \u001b[0;36mauthenticate\u001b[0;34m(self, transport_options)\u001b[0m\n\u001b[1;32m     98\u001b[0m             \u001b[0mtoken\u001b[0m \u001b[0;34m=\u001b[0m \u001b[0mself\u001b[0m\u001b[0;34m.\u001b[0m\u001b[0m_get_sudo_token\u001b[0m\u001b[0;34m(\u001b[0m\u001b[0mtransport_options\u001b[0m\u001b[0;34m)\u001b[0m\u001b[0;34m\u001b[0m\u001b[0;34m\u001b[0m\u001b[0m\n\u001b[1;32m     99\u001b[0m         \u001b[0;32melse\u001b[0m\u001b[0;34m:\u001b[0m\u001b[0;34m\u001b[0m\u001b[0;34m\u001b[0m\u001b[0m\n\u001b[0;32m--> 100\u001b[0;31m             \u001b[0mtoken\u001b[0m \u001b[0;34m=\u001b[0m \u001b[0mself\u001b[0m\u001b[0;34m.\u001b[0m\u001b[0m_get_token\u001b[0m\u001b[0;34m(\u001b[0m\u001b[0mtransport_options\u001b[0m\u001b[0;34m)\u001b[0m\u001b[0;34m\u001b[0m\u001b[0;34m\u001b[0m\u001b[0m\n\u001b[0m\u001b[1;32m    101\u001b[0m \u001b[0;34m\u001b[0m\u001b[0m\n\u001b[1;32m    102\u001b[0m         \u001b[0;32mreturn\u001b[0m \u001b[0;34m{\u001b[0m\u001b[0;34m\"Authorization\"\u001b[0m\u001b[0;34m:\u001b[0m \u001b[0;34mf\"Bearer {token.access_token}\"\u001b[0m\u001b[0;34m}\u001b[0m\u001b[0;34m\u001b[0m\u001b[0;34m\u001b[0m\u001b[0m\n",
            "\u001b[0;32m/usr/local/lib/python3.9/dist-packages/looker_sdk/rtl/auth_session.py\u001b[0m in \u001b[0;36m_get_token\u001b[0;34m(self, transport_options)\u001b[0m\n\u001b[1;32m     85\u001b[0m         \u001b[0;34m\"\"\"Returns an active token.\"\"\"\u001b[0m\u001b[0;34m\u001b[0m\u001b[0;34m\u001b[0m\u001b[0m\n\u001b[1;32m     86\u001b[0m         \u001b[0;32mif\u001b[0m \u001b[0;32mnot\u001b[0m \u001b[0mself\u001b[0m\u001b[0;34m.\u001b[0m\u001b[0mis_authenticated\u001b[0m\u001b[0;34m:\u001b[0m\u001b[0;34m\u001b[0m\u001b[0;34m\u001b[0m\u001b[0m\n\u001b[0;32m---> 87\u001b[0;31m             \u001b[0mself\u001b[0m\u001b[0;34m.\u001b[0m\u001b[0m_login\u001b[0m\u001b[0;34m(\u001b[0m\u001b[0mtransport_options\u001b[0m\u001b[0;34m)\u001b[0m\u001b[0;34m\u001b[0m\u001b[0;34m\u001b[0m\u001b[0m\n\u001b[0m\u001b[1;32m     88\u001b[0m         \u001b[0;32mreturn\u001b[0m \u001b[0mself\u001b[0m\u001b[0;34m.\u001b[0m\u001b[0mtoken\u001b[0m\u001b[0;34m\u001b[0m\u001b[0;34m\u001b[0m\u001b[0m\n\u001b[1;32m     89\u001b[0m \u001b[0;34m\u001b[0m\u001b[0m\n",
            "\u001b[0;32m/usr/local/lib/python3.9/dist-packages/looker_sdk/rtl/auth_session.py\u001b[0m in \u001b[0;36m_login\u001b[0;34m(self, transport_options)\u001b[0m\n\u001b[1;32m    146\u001b[0m             \u001b[0;34m{\u001b[0m\u001b[0;34m\"Content-Type\"\u001b[0m\u001b[0;34m:\u001b[0m \u001b[0;34m\"application/x-www-form-urlencoded\"\u001b[0m\u001b[0;34m}\u001b[0m\u001b[0;34m\u001b[0m\u001b[0;34m\u001b[0m\u001b[0m\n\u001b[1;32m    147\u001b[0m         )\n\u001b[0;32m--> 148\u001b[0;31m         response = self._ok(\n\u001b[0m\u001b[1;32m    149\u001b[0m             self.transport.request(\n\u001b[1;32m    150\u001b[0m                 \u001b[0mtransport\u001b[0m\u001b[0;34m.\u001b[0m\u001b[0mHttpMethod\u001b[0m\u001b[0;34m.\u001b[0m\u001b[0mPOST\u001b[0m\u001b[0;34m,\u001b[0m\u001b[0;34m\u001b[0m\u001b[0;34m\u001b[0m\u001b[0m\n",
            "\u001b[0;32m/usr/local/lib/python3.9/dist-packages/looker_sdk/rtl/auth_session.py\u001b[0m in \u001b[0;36m_ok\u001b[0;34m(self, response)\u001b[0m\n\u001b[1;32m    238\u001b[0m     \u001b[0;32mdef\u001b[0m \u001b[0m_ok\u001b[0m\u001b[0;34m(\u001b[0m\u001b[0mself\u001b[0m\u001b[0;34m,\u001b[0m \u001b[0mresponse\u001b[0m\u001b[0;34m:\u001b[0m \u001b[0mtransport\u001b[0m\u001b[0;34m.\u001b[0m\u001b[0mResponse\u001b[0m\u001b[0;34m)\u001b[0m \u001b[0;34m->\u001b[0m \u001b[0mstr\u001b[0m\u001b[0;34m:\u001b[0m\u001b[0;34m\u001b[0m\u001b[0;34m\u001b[0m\u001b[0m\n\u001b[1;32m    239\u001b[0m         \u001b[0;32mif\u001b[0m \u001b[0;32mnot\u001b[0m \u001b[0mresponse\u001b[0m\u001b[0;34m.\u001b[0m\u001b[0mok\u001b[0m\u001b[0;34m:\u001b[0m\u001b[0;34m\u001b[0m\u001b[0;34m\u001b[0m\u001b[0m\n\u001b[0;32m--> 240\u001b[0;31m             \u001b[0;32mraise\u001b[0m \u001b[0merror\u001b[0m\u001b[0;34m.\u001b[0m\u001b[0mSDKError\u001b[0m\u001b[0;34m(\u001b[0m\u001b[0mresponse\u001b[0m\u001b[0;34m.\u001b[0m\u001b[0mvalue\u001b[0m\u001b[0;34m.\u001b[0m\u001b[0mdecode\u001b[0m\u001b[0;34m(\u001b[0m\u001b[0mencoding\u001b[0m\u001b[0;34m=\u001b[0m\u001b[0;34m\"utf-8\"\u001b[0m\u001b[0;34m)\u001b[0m\u001b[0;34m)\u001b[0m\u001b[0;34m\u001b[0m\u001b[0;34m\u001b[0m\u001b[0m\n\u001b[0m\u001b[1;32m    241\u001b[0m         \u001b[0;32mreturn\u001b[0m \u001b[0mresponse\u001b[0m\u001b[0;34m.\u001b[0m\u001b[0mvalue\u001b[0m\u001b[0;34m.\u001b[0m\u001b[0mdecode\u001b[0m\u001b[0;34m(\u001b[0m\u001b[0mencoding\u001b[0m\u001b[0;34m=\u001b[0m\u001b[0;34m\"utf-8\"\u001b[0m\u001b[0;34m)\u001b[0m\u001b[0;34m\u001b[0m\u001b[0;34m\u001b[0m\u001b[0m\n\u001b[1;32m    242\u001b[0m \u001b[0;34m\u001b[0m\u001b[0m\n",
            "\u001b[0;31mSDKError\u001b[0m: HTTPSConnectionPool(host='%3cyour-looker-server%3e', port=19999): Max retries exceeded with url: /api/4.0/login (Caused by NewConnectionError('<urllib3.connection.HTTPSConnection object at 0x7f1861e3b2e0>: Failed to establish a new connection: [Errno -2] Name or service not known'))"
          ]
        }
      ],
      "source": [
        "import looker_sdk\n",
        "\n",
        "# For this to work you must either have set environment variables or created a looker.ini\n",
        "# Initialize Looker SDK 4.0\n",
        "sdk = looker_sdk.init40()  # or init31() for the older v3.1 API\n",
        "\n",
        "# Make your first Looker API calls\n",
        "my_user = sdk.me()\n",
        "\n",
        "print(my_user.first_name)\n",
        "\n"
      ]
    },
    {
      "cell_type": "markdown",
      "source": [
        "# Main API calls"
      ],
      "metadata": {
        "id": "FOHtfiYuEAVL"
      }
    },
    {
      "cell_type": "markdown",
      "source": [
        "Write the main API calls code below"
      ],
      "metadata": {
        "id": "Tn_2vQyLEHVT"
      }
    },
    {
      "cell_type": "code",
      "source": [],
      "metadata": {
        "id": "-VH2Zx0EEGNv"
      },
      "execution_count": null,
      "outputs": []
    }
  ]
}