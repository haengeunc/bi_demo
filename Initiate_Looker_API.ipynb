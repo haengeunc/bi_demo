{
  "nbformat": 4,
  "nbformat_minor": 0,
  "metadata": {
    "colab": {
      "provenance": [],
      "include_colab_link": true
    },
    "kernelspec": {
      "name": "python3",
      "display_name": "Python 3"
    },
    "language_info": {
      "name": "python"
    }
  },
  "cells": [
    {
      "cell_type": "markdown",
      "metadata": {
        "id": "view-in-github",
        "colab_type": "text"
      },
      "source": [
        "<a href=\"https://colab.research.google.com/github/haengeunc/bi_demo/blob/master/Initiate_Looker_API.ipynb\" target=\"_parent\"><img src=\"https://colab.research.google.com/assets/colab-badge.svg\" alt=\"Open In Colab\"/></a>"
      ]
    },
    {
      "cell_type": "markdown",
      "source": [
        "❓How to use API in Looker❓\n",
        "\n",
        "Development environment requirements:\n",
        "*  looker-sdk-22.18.0\n",
        "\n",
        "\n"
      ],
      "metadata": {
        "id": "WQ3oKljdCBhN"
      }
    },
    {
      "cell_type": "markdown",
      "source": [
        "# Set up the Looker Python SDK"
      ],
      "metadata": {
        "id": "bofq65lQaOke"
      }
    },
    {
      "cell_type": "code",
      "source": [
        "!pip install looker-sdk"
      ],
      "metadata": {
        "id": "IqMUz_40CF0c"
      },
      "execution_count": null,
      "outputs": []
    },
    {
      "cell_type": "code",
      "metadata": {
        "id": "SOp9JZxPm4pM"
      },
      "source": [
        "# For the SDK to work, you must either have set environment variables or created a looker.ini in the working directory.\n",
        "\n",
        "# 1. Setting environment variables: Create looker.ini file in the working directory (e.g. /content folder)\n",
        "\n",
        "# [Looker]\n",
        "# # Base URL for API. Do not include /api/* in the url\n",
        "# base_url=https://<your-looker-server>:19999\n",
        "# # API 3 client id\n",
        "# client_id=your_API3_client_id\n",
        "# # API 3 client secret\n",
        "# client_secret=your_API3_client_secret\n",
        "# verify_ssl=true\n",
        "\n",
        "#check looker.ini file exists in the content folder\n",
        "import os.path\n",
        "\n",
        "fname = '/content/looker.ini'\n",
        "os.path.isfile(fname)\n",
        "\n",
        "if os.path.isfile(fname):\n",
        "  print('Environment variables are set')\n",
        "else:\n",
        "  print('Ensure that looker.ini file is stored in the working directory - see instruction above')\n",
        "\n",
        "\n"
      ],
      "execution_count": null,
      "outputs": []
    },
    {
      "cell_type": "code",
      "source": [
        "# [Optional - mount Google Drive on colab]\n",
        "\n",
        "from google.colab import drive\n",
        "drive.mount('/content/drive')"
      ],
      "metadata": {
        "id": "mge8iQYd6lhU"
      },
      "execution_count": null,
      "outputs": []
    },
    {
      "cell_type": "code",
      "execution_count": null,
      "metadata": {
        "id": "u_jEgRWjBcta"
      },
      "outputs": [],
      "source": [
        "import looker_sdk\n",
        "\n",
        "# For this to work you must either have set environment variables or created a looker.ini\n",
        "# Initialize Looker SDK 4.0\n",
        "sdk = looker_sdk.init40()  # or init31() for the older v3.1 API\n",
        "\n",
        "# Make your first Looker API calls\n",
        "my_user = sdk.me()\n",
        "\n",
        "print(my_user.first_name)\n",
        "\n"
      ]
    },
    {
      "cell_type": "markdown",
      "source": [
        "# Main API calls"
      ],
      "metadata": {
        "id": "FOHtfiYuEAVL"
      }
    },
    {
      "cell_type": "markdown",
      "source": [
        "Write the main API calls code below"
      ],
      "metadata": {
        "id": "Tn_2vQyLEHVT"
      }
    },
    {
      "cell_type": "code",
      "source": [],
      "metadata": {
        "id": "-VH2Zx0EEGNv"
      },
      "execution_count": null,
      "outputs": []
    }
  ]
}